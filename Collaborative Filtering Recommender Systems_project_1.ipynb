{
 "cells": [
  {
   "cell_type": "code",
   "execution_count": 650,
   "id": "bafc8b6c",
   "metadata": {},
   "outputs": [],
   "source": [
    "import pandas as pd\n",
    "import numpy as np\n",
    "import tensorflow as tf\n",
    "from tensorflow import keras"
   ]
  },
  {
   "cell_type": "code",
   "execution_count": 651,
   "id": "ea5c1ceb",
   "metadata": {},
   "outputs": [],
   "source": [
    "df = pd.read_csv('C:\\\\Users\\\\Codenester\\\\Downloads\\\\ml-latest-small\\\\ml-latest-small\\\\movies.csv')\n",
    "dt = pd.read_csv('C:\\\\Users\\\\Codenester\\\\Downloads\\\\ml-latest-small\\\\ml-latest-small\\\\ratings.csv')"
   ]
  },
  {
   "cell_type": "code",
   "execution_count": 652,
   "id": "72b72fba",
   "metadata": {},
   "outputs": [],
   "source": [
    "data = df.merge(dt,on='movieId')[['title','userId','rating']]"
   ]
  },
  {
   "cell_type": "code",
   "execution_count": 653,
   "id": "1a679d6f",
   "metadata": {},
   "outputs": [],
   "source": [
    "x = data.groupby('userId').count()['rating']>40\n",
    "user_rated = x[x].index"
   ]
  },
  {
   "cell_type": "code",
   "execution_count": 654,
   "id": "e0b8aa78",
   "metadata": {},
   "outputs": [],
   "source": [
    "num_rated = data[data['userId'].isin(user_rated)]"
   ]
  },
  {
   "cell_type": "code",
   "execution_count": 655,
   "id": "8c4495b0",
   "metadata": {},
   "outputs": [],
   "source": [
    "y = num_rated.groupby('title').count()['rating']>=10\n",
    "famous_movie = y[y].index"
   ]
  },
  {
   "cell_type": "code",
   "execution_count": 656,
   "id": "97289d39",
   "metadata": {},
   "outputs": [],
   "source": [
    "filtered_movie = num_rated[num_rated['title'].isin(famous_movie)]"
   ]
  },
  {
   "cell_type": "code",
   "execution_count": 657,
   "id": "34ed441c",
   "metadata": {},
   "outputs": [],
   "source": [
    "pt = filtered_movie.pivot_table(index='title',columns='userId',values='rating')"
   ]
  },
  {
   "cell_type": "code",
   "execution_count": 664,
   "id": "a954a00b",
   "metadata": {},
   "outputs": [],
   "source": [
    "pt.fillna(0,inplace=True)"
   ]
  },
  {
   "cell_type": "code",
   "execution_count": 684,
   "id": "8c9deb44",
   "metadata": {},
   "outputs": [
    {
     "data": {
      "text/html": [
       "<div>\n",
       "<style scoped>\n",
       "    .dataframe tbody tr th:only-of-type {\n",
       "        vertical-align: middle;\n",
       "    }\n",
       "\n",
       "    .dataframe tbody tr th {\n",
       "        vertical-align: top;\n",
       "    }\n",
       "\n",
       "    .dataframe thead th {\n",
       "        text-align: right;\n",
       "    }\n",
       "</style>\n",
       "<table border=\"1\" class=\"dataframe\">\n",
       "  <thead>\n",
       "    <tr style=\"text-align: right;\">\n",
       "      <th>userId</th>\n",
       "      <th>1</th>\n",
       "      <th>4</th>\n",
       "      <th>5</th>\n",
       "      <th>6</th>\n",
       "      <th>7</th>\n",
       "      <th>8</th>\n",
       "      <th>9</th>\n",
       "      <th>10</th>\n",
       "      <th>11</th>\n",
       "      <th>14</th>\n",
       "      <th>...</th>\n",
       "      <th>600</th>\n",
       "      <th>601</th>\n",
       "      <th>602</th>\n",
       "      <th>603</th>\n",
       "      <th>604</th>\n",
       "      <th>605</th>\n",
       "      <th>606</th>\n",
       "      <th>607</th>\n",
       "      <th>608</th>\n",
       "      <th>610</th>\n",
       "    </tr>\n",
       "    <tr>\n",
       "      <th>title</th>\n",
       "      <th></th>\n",
       "      <th></th>\n",
       "      <th></th>\n",
       "      <th></th>\n",
       "      <th></th>\n",
       "      <th></th>\n",
       "      <th></th>\n",
       "      <th></th>\n",
       "      <th></th>\n",
       "      <th></th>\n",
       "      <th></th>\n",
       "      <th></th>\n",
       "      <th></th>\n",
       "      <th></th>\n",
       "      <th></th>\n",
       "      <th></th>\n",
       "      <th></th>\n",
       "      <th></th>\n",
       "      <th></th>\n",
       "      <th></th>\n",
       "      <th></th>\n",
       "    </tr>\n",
       "  </thead>\n",
       "  <tbody>\n",
       "    <tr>\n",
       "      <th>'burbs, The (1989)</th>\n",
       "      <td>0.0</td>\n",
       "      <td>0.0</td>\n",
       "      <td>0.0</td>\n",
       "      <td>0.0</td>\n",
       "      <td>0.0</td>\n",
       "      <td>0.0</td>\n",
       "      <td>0.0</td>\n",
       "      <td>0.0</td>\n",
       "      <td>0.0</td>\n",
       "      <td>0.0</td>\n",
       "      <td>...</td>\n",
       "      <td>0.0</td>\n",
       "      <td>0.0</td>\n",
       "      <td>0.0</td>\n",
       "      <td>0.0</td>\n",
       "      <td>0.0</td>\n",
       "      <td>0.0</td>\n",
       "      <td>0.0</td>\n",
       "      <td>0.0</td>\n",
       "      <td>0.0</td>\n",
       "      <td>0.0</td>\n",
       "    </tr>\n",
       "    <tr>\n",
       "      <th>(500) Days of Summer (2009)</th>\n",
       "      <td>0.0</td>\n",
       "      <td>0.0</td>\n",
       "      <td>0.0</td>\n",
       "      <td>0.0</td>\n",
       "      <td>0.0</td>\n",
       "      <td>0.0</td>\n",
       "      <td>0.0</td>\n",
       "      <td>0.0</td>\n",
       "      <td>0.0</td>\n",
       "      <td>0.0</td>\n",
       "      <td>...</td>\n",
       "      <td>0.0</td>\n",
       "      <td>0.0</td>\n",
       "      <td>0.0</td>\n",
       "      <td>0.0</td>\n",
       "      <td>0.0</td>\n",
       "      <td>0.0</td>\n",
       "      <td>0.0</td>\n",
       "      <td>0.0</td>\n",
       "      <td>0.0</td>\n",
       "      <td>3.5</td>\n",
       "    </tr>\n",
       "    <tr>\n",
       "      <th>10 Cloverfield Lane (2016)</th>\n",
       "      <td>0.0</td>\n",
       "      <td>0.0</td>\n",
       "      <td>0.0</td>\n",
       "      <td>0.0</td>\n",
       "      <td>0.0</td>\n",
       "      <td>0.0</td>\n",
       "      <td>0.0</td>\n",
       "      <td>0.0</td>\n",
       "      <td>0.0</td>\n",
       "      <td>0.0</td>\n",
       "      <td>...</td>\n",
       "      <td>0.0</td>\n",
       "      <td>0.0</td>\n",
       "      <td>0.0</td>\n",
       "      <td>0.0</td>\n",
       "      <td>0.0</td>\n",
       "      <td>0.0</td>\n",
       "      <td>0.0</td>\n",
       "      <td>0.0</td>\n",
       "      <td>0.0</td>\n",
       "      <td>4.0</td>\n",
       "    </tr>\n",
       "    <tr>\n",
       "      <th>10 Things I Hate About You (1999)</th>\n",
       "      <td>0.0</td>\n",
       "      <td>0.0</td>\n",
       "      <td>0.0</td>\n",
       "      <td>0.0</td>\n",
       "      <td>0.0</td>\n",
       "      <td>0.0</td>\n",
       "      <td>0.0</td>\n",
       "      <td>0.0</td>\n",
       "      <td>0.0</td>\n",
       "      <td>0.0</td>\n",
       "      <td>...</td>\n",
       "      <td>3.0</td>\n",
       "      <td>0.0</td>\n",
       "      <td>0.0</td>\n",
       "      <td>3.0</td>\n",
       "      <td>0.0</td>\n",
       "      <td>5.0</td>\n",
       "      <td>0.0</td>\n",
       "      <td>0.0</td>\n",
       "      <td>0.0</td>\n",
       "      <td>0.0</td>\n",
       "    </tr>\n",
       "    <tr>\n",
       "      <th>10,000 BC (2008)</th>\n",
       "      <td>0.0</td>\n",
       "      <td>0.0</td>\n",
       "      <td>0.0</td>\n",
       "      <td>0.0</td>\n",
       "      <td>0.0</td>\n",
       "      <td>0.0</td>\n",
       "      <td>0.0</td>\n",
       "      <td>0.0</td>\n",
       "      <td>0.0</td>\n",
       "      <td>0.0</td>\n",
       "      <td>...</td>\n",
       "      <td>0.0</td>\n",
       "      <td>0.0</td>\n",
       "      <td>0.0</td>\n",
       "      <td>0.0</td>\n",
       "      <td>0.0</td>\n",
       "      <td>0.0</td>\n",
       "      <td>0.0</td>\n",
       "      <td>0.0</td>\n",
       "      <td>0.0</td>\n",
       "      <td>0.0</td>\n",
       "    </tr>\n",
       "  </tbody>\n",
       "</table>\n",
       "<p>5 rows × 422 columns</p>\n",
       "</div>"
      ],
      "text/plain": [
       "userId                             1    4    5    6    7    8    9    10   \\\n",
       "title                                                                       \n",
       "'burbs, The (1989)                 0.0  0.0  0.0  0.0  0.0  0.0  0.0  0.0   \n",
       "(500) Days of Summer (2009)        0.0  0.0  0.0  0.0  0.0  0.0  0.0  0.0   \n",
       "10 Cloverfield Lane (2016)         0.0  0.0  0.0  0.0  0.0  0.0  0.0  0.0   \n",
       "10 Things I Hate About You (1999)  0.0  0.0  0.0  0.0  0.0  0.0  0.0  0.0   \n",
       "10,000 BC (2008)                   0.0  0.0  0.0  0.0  0.0  0.0  0.0  0.0   \n",
       "\n",
       "userId                             11   14   ...  600  601  602  603  604  \\\n",
       "title                                        ...                            \n",
       "'burbs, The (1989)                 0.0  0.0  ...  0.0  0.0  0.0  0.0  0.0   \n",
       "(500) Days of Summer (2009)        0.0  0.0  ...  0.0  0.0  0.0  0.0  0.0   \n",
       "10 Cloverfield Lane (2016)         0.0  0.0  ...  0.0  0.0  0.0  0.0  0.0   \n",
       "10 Things I Hate About You (1999)  0.0  0.0  ...  3.0  0.0  0.0  3.0  0.0   \n",
       "10,000 BC (2008)                   0.0  0.0  ...  0.0  0.0  0.0  0.0  0.0   \n",
       "\n",
       "userId                             605  606  607  608  610  \n",
       "title                                                       \n",
       "'burbs, The (1989)                 0.0  0.0  0.0  0.0  0.0  \n",
       "(500) Days of Summer (2009)        0.0  0.0  0.0  0.0  3.5  \n",
       "10 Cloverfield Lane (2016)         0.0  0.0  0.0  0.0  4.0  \n",
       "10 Things I Hate About You (1999)  5.0  0.0  0.0  0.0  0.0  \n",
       "10,000 BC (2008)                   0.0  0.0  0.0  0.0  0.0  \n",
       "\n",
       "[5 rows x 422 columns]"
      ]
     },
     "execution_count": 684,
     "metadata": {},
     "output_type": "execute_result"
    }
   ],
   "source": [
    "pt.head()"
   ]
  },
  {
   "cell_type": "code",
   "execution_count": 685,
   "id": "52ce4af9",
   "metadata": {},
   "outputs": [],
   "source": [
    "from sklearn.metrics.pairwise import cosine_similarity"
   ]
  },
  {
   "cell_type": "code",
   "execution_count": 686,
   "id": "9f4b18a8",
   "metadata": {},
   "outputs": [],
   "source": [
    "similarity_score = cosine_similarity(pt)"
   ]
  },
  {
   "cell_type": "code",
   "execution_count": 687,
   "id": "3b418386",
   "metadata": {},
   "outputs": [
    {
     "data": {
      "text/plain": [
       "(2235, 2235)"
      ]
     },
     "execution_count": 687,
     "metadata": {},
     "output_type": "execute_result"
    }
   ],
   "source": [
    "similarity_score.shape"
   ]
  },
  {
   "cell_type": "code",
   "execution_count": 688,
   "id": "b7a6f83e",
   "metadata": {},
   "outputs": [
    {
     "name": "stdout",
     "output_type": "stream",
     "text": [
      "4\n",
      "48\n"
     ]
    }
   ],
   "source": [
    "print(np.where(pt.index=='10,000 BC (2008)')[0][0])\n",
    "print(np.where(pt.index=='A.I. Artificial Intelligence (2001)')[0][0])"
   ]
  },
  {
   "cell_type": "code",
   "execution_count": 689,
   "id": "15288ec2",
   "metadata": {},
   "outputs": [],
   "source": [
    "def recomend(movie):\n",
    "    index = np.where(pt.index==movie)[0][0]\n",
    "    similar_item = sorted(list(enumerate(similarity_score[index])),key=lambda x: x[1],reverse=True)[1:10]\n",
    "    \n",
    "    for i in similar_item:\n",
    "        print(pt.index[i[0]])"
   ]
  },
  {
   "cell_type": "code",
   "execution_count": 690,
   "id": "dff862c9",
   "metadata": {},
   "outputs": [
    {
     "name": "stdout",
     "output_type": "stream",
     "text": [
      "I, Robot (2004)\n",
      "Signs (2002)\n",
      "Unbreakable (2000)\n",
      "Minority Report (2002)\n",
      "Final Fantasy: The Spirits Within (2001)\n",
      "Matrix Reloaded, The (2003)\n",
      "Back to the Future Part III (1990)\n",
      "War of the Worlds (2005)\n",
      "Spider-Man (2002)\n"
     ]
    }
   ],
   "source": [
    "recomend('A.I. Artificial Intelligence (2001)')"
   ]
  },
  {
   "cell_type": "code",
   "execution_count": 691,
   "id": "68d2cf83",
   "metadata": {},
   "outputs": [
    {
     "name": "stdout",
     "output_type": "stream",
     "text": [
      "Where the Wild Things Are (2009)\n",
      "League of Extraordinary Gentlemen, The (a.k.a. LXG) (2003)\n",
      "Mist, The (2007)\n",
      "Van Helsing (2004)\n",
      "Imaginarium of Doctor Parnassus, The (2009)\n",
      "Burn After Reading (2008)\n",
      "Fantastic Mr. Fox (2009)\n",
      "Adjustment Bureau, The (2011)\n",
      "Brothers Grimm, The (2005)\n"
     ]
    }
   ],
   "source": [
    "recomend('9 (2009)')"
   ]
  },
  {
   "cell_type": "code",
   "execution_count": null,
   "id": "12af146a",
   "metadata": {},
   "outputs": [],
   "source": []
  },
  {
   "cell_type": "code",
   "execution_count": null,
   "id": "0eb21377",
   "metadata": {},
   "outputs": [],
   "source": []
  }
 ],
 "metadata": {
  "kernelspec": {
   "display_name": "Python 3 (ipykernel)",
   "language": "python",
   "name": "python3"
  },
  "language_info": {
   "codemirror_mode": {
    "name": "ipython",
    "version": 3
   },
   "file_extension": ".py",
   "mimetype": "text/x-python",
   "name": "python",
   "nbconvert_exporter": "python",
   "pygments_lexer": "ipython3",
   "version": "3.9.13"
  }
 },
 "nbformat": 4,
 "nbformat_minor": 5
}

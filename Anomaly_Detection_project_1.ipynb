{
 "cells": [
  {
   "cell_type": "code",
   "execution_count": 142,
   "id": "27e622c6",
   "metadata": {},
   "outputs": [],
   "source": [
    "import pandas as pd\n",
    "import numpy as np\n",
    "import matplotlib.pyplot as plt"
   ]
  },
  {
   "cell_type": "code",
   "execution_count": 179,
   "id": "6413f56b",
   "metadata": {},
   "outputs": [],
   "source": [
    "df = pd.read_csv('iris.csv').to_numpy()\n",
    "data = df[:,1:5]\n",
    "data.shape\n",
    "x_train = data\n",
    "x_var = data\n",
    "y_var = data[:,0]"
   ]
  },
  {
   "cell_type": "code",
   "execution_count": 180,
   "id": "284c0418",
   "metadata": {},
   "outputs": [
    {
     "data": {
      "image/png": "[encoded data removed]",
      "text/plain": [
       "<Figure size 640x480 with 1 Axes>"
      ]
     },
     "metadata": {},
     "output_type": "display_data"
    }
   ],
   "source": [
    "plt.scatter(df[:,1],df[:,2])\n",
    "plt.show()"
   ]
  },
  {
   "cell_type": "code",
   "execution_count": 181,
   "id": "2ce71a5b",
   "metadata": {},
   "outputs": [
    {
     "name": "stdout",
     "output_type": "stream",
     "text": [
      "size of x_train : (150, 4)\n",
      "size of x_var : (150, 4)\n",
      "size of y_var : (150,)\n"
     ]
    }
   ],
   "source": [
    "print('size of x_train :',x_train.shape)\n",
    "print('size of x_var :',x_var.shape)\n",
    "print('size of y_var :',y_var.shape)"
   ]
  },
  {
   "cell_type": "code",
   "execution_count": 182,
   "id": "98760161",
   "metadata": {},
   "outputs": [],
   "source": [
    "def estimate_gaussian(X): \n",
    "    \"\"\"\n",
    "    Calculates mean and variance of all features \n",
    "    in the dataset\n",
    "    \n",
    "    Args:\n",
    "        X (ndarray): (m, n) Data matrix\n",
    "    \n",
    "    Returns:\n",
    "        mu (ndarray): (n,) Mean of all features\n",
    "        var (ndarray): (n,) Variance of all features\n",
    "    \"\"\"\n",
    "    m,n = X.shape\n",
    "    \n",
    "    mu = 1/m * np.sum(X, axis = 0)\n",
    "    var = 1/m * np.sum(((X - mu)**2), axis = 0)\n",
    "    \n",
    "    return mu, var"
   ]
  },
  {
   "cell_type": "code",
   "execution_count": 183,
   "id": "b0f604ed",
   "metadata": {},
   "outputs": [
    {
     "name": "stdout",
     "output_type": "stream",
     "text": [
      "value of mu : [58.43333333333334 30.573333333333334 37.580000000000005\n",
      " 11.993333333333334]\n",
      "value of var : [68.11222222222219 18.87128888888889 309.5502666666669 57.71328888888888]\n"
     ]
    }
   ],
   "source": [
    "mu, var = estimate_gaussian(x_train)\n",
    "\n",
    "print(f'value of mu : {mu}')\n",
    "print(f'value of var : {var}')"
   ]
  },
  {
   "cell_type": "code",
   "execution_count": 184,
   "id": "ac2c056e",
   "metadata": {},
   "outputs": [],
   "source": [
    "def select_threshold(y_val, p_val): \n",
    "    \"\"\"\n",
    "    Finds the best threshold to use for selecting outliers \n",
    "    based on the results from a validation set (p_val) \n",
    "    and the ground truth (y_val)\n",
    "    \n",
    "    Args:\n",
    "        y_val (ndarray): Ground truth on validation set\n",
    "        p_val (ndarray): Results on validation set\n",
    "        \n",
    "    Returns:\n",
    "        epsilon (float): Threshold chosen \n",
    "        F1 (float):      F1 score by choosing epsilon as threshold\n",
    "    \"\"\" \n",
    "    best_epsilon = 0\n",
    "    best_F1 = 0\n",
    "    F1 = 0\n",
    "    \n",
    "    step_size = (max(p_val) - min(p_val)) / 1000\n",
    "    \n",
    "    for epsilon in np.arange(max(p_val),min(p_val),step_size):\n",
    "        prediction = (p_val < epsilon)\n",
    "        \n",
    "        tp = np.sum((predction == 1) & (y_val == 1))\n",
    "        fp = np.sum((predction == 1) & (y_val == 0))\n",
    "        fn = np.sum((predction == 0) & (y_val == 1))\n",
    "        \n",
    "        prec = tp / tp + fp \n",
    "        rec  = tp / tp + fn\n",
    "        \n",
    "        F1 = 2 * prec * rec /(prec + rec)\n",
    "        \n",
    "        if F1 < epsilon:\n",
    "            best_F1 = F1\n",
    "            best_epsilon = epsilon\n",
    "            \n",
    "    return best_F1, best_epsilon"
   ]
  },
  {
   "cell_type": "code",
   "execution_count": 185,
   "id": "eb96f02c",
   "metadata": {},
   "outputs": [],
   "source": [
    "F1, epsilon =  select_threshold(x_var, y_var)"
   ]
  },
  {
   "cell_type": "code",
   "execution_count": 186,
   "id": "468ea2f0",
   "metadata": {},
   "outputs": [
    {
     "name": "stdout",
     "output_type": "stream",
     "text": [
      "value of epsilon : 0\n",
      "value of F1 : 0\n"
     ]
    }
   ],
   "source": [
    "print('value of epsilon :', epsilon)\n",
    "print('value of F1 :', F1)"
   ]
  },
  {
   "cell_type": "code",
   "execution_count": 189,
   "id": "1b589a55",
   "metadata": {},
   "outputs": [],
   "source": [
    "from sklearn.ensemble import IsolationForest"
   ]
  },
  {
   "cell_type": "code",
   "execution_count": 214,
   "id": "2c94306c",
   "metadata": {},
   "outputs": [],
   "source": [
    "gr = IsolationForest(contamination=0.5)\n",
    "gr.fit(data)\n",
    "prediction = gr.predict(data)"
   ]
  },
  {
   "cell_type": "code",
   "execution_count": 215,
   "id": "1229c124",
   "metadata": {},
   "outputs": [
    {
     "data": {
      "text/plain": [
       "array([ 1, -1, -1, -1, -1,  1,  1, -1, -1, -1, -1,  1, -1,  1, -1,  1,  1,\n",
       "       -1, -1, -1,  1,  1,  1,  1, -1,  1, -1, -1, -1,  1, -1,  1, -1,  1,\n",
       "        1,  1,  1, -1,  1, -1,  1,  1, -1, -1, -1,  1, -1,  1,  1,  1,  1,\n",
       "       -1,  1,  1,  1, -1,  1, -1, -1,  1,  1, -1,  1,  1,  1, -1,  1,  1,\n",
       "       -1,  1, -1,  1, -1,  1,  1,  1, -1, -1, -1, -1,  1,  1,  1, -1,  1,\n",
       "       -1,  1,  1,  1,  1, -1,  1,  1, -1, -1,  1, -1,  1,  1,  1, -1, -1,\n",
       "        1, -1,  1,  1,  1, -1, -1, -1, -1, -1, -1,  1,  1, -1,  1, -1, -1,\n",
       "       -1,  1, -1,  1, -1,  1,  1, -1, -1,  1, -1, -1,  1,  1,  1, -1, -1,\n",
       "       -1, -1, -1, -1, -1,  1, -1, -1,  1,  1,  1, -1, -1, -1])"
      ]
     },
     "execution_count": 215,
     "metadata": {},
     "output_type": "execute_result"
    }
   ],
   "source": [
    "prediction"
   ]
  },
  {
   "cell_type": "code",
   "execution_count": 216,
   "id": "f8505e39",
   "metadata": {},
   "outputs": [
    {
     "data": {
      "text/plain": [
       "(array([  1,   2,   3,   4,   7,   8,   9,  10,  12,  14,  17,  18,  19,\n",
       "         24,  26,  27,  28,  30,  32,  37,  39,  42,  43,  44,  46,  51,\n",
       "         55,  57,  58,  61,  65,  68,  70,  72,  76,  77,  78,  79,  83,\n",
       "         85,  90,  93,  94,  96, 100, 101, 103, 107, 108, 109, 110, 111,\n",
       "        112, 115, 117, 118, 119, 121, 123, 126, 127, 129, 130, 134, 135,\n",
       "        136, 137, 138, 139, 140, 142, 143, 147, 148, 149], dtype=int64),)"
      ]
     },
     "execution_count": 216,
     "metadata": {},
     "output_type": "execute_result"
    }
   ],
   "source": [
    "index = np.where(prediction < 0)\n",
    "index"
   ]
  },
  {
   "cell_type": "code",
   "execution_count": 217,
   "id": "bb99216a",
   "metadata": {},
   "outputs": [
    {
     "data": {
      "image/png": "[encoded data removed]",
      "text/plain": [
       "<Figure size 640x480 with 1 Axes>"
      ]
     },
     "metadata": {},
     "output_type": "display_data"
    }
   ],
   "source": [
    "plt.scatter(data[:,3],data[:,1])\n",
    "plt.scatter(data[index,3],data[index,1],edgecolors = 'r')\n",
    "plt.show()"
   ]
  },
  {
   "cell_type": "code",
   "execution_count": 209,
   "id": "c9111176",
   "metadata": {},
   "outputs": [
    {
     "data": {
      "image/png": "[encoded data removed]",
      "text/plain": [
       "<Figure size 640x480 with 1 Axes>"
      ]
     },
     "metadata": {},
     "output_type": "display_data"
    }
   ],
   "source": [
    "plt.scatter(data[:,3],data[:,1])\n",
    "plt.scatter(data[index,3],data[index,1],edgecolors = 'r')\n",
    "plt.show()"
   ]
  },
  {
   "cell_type": "code",
   "execution_count": null,
   "id": "0d0bc835",
   "metadata": {},
   "outputs": [],
   "source": []
  }
 ],
 "metadata": {
  "kernelspec": {
   "display_name": "Python 3 (ipykernel)",
   "language": "python",
   "name": "python3"
  },
  "language_info": {
   "codemirror_mode": {
    "name": "ipython",
    "version": 3
   },
   "file_extension": ".py",
   "mimetype": "text/x-python",
   "name": "python",
   "nbconvert_exporter": "python",
   "pygments_lexer": "ipython3",
   "version": "3.9.13"
  }
 },
 "nbformat": 4,
 "nbformat_minor": 5
}
